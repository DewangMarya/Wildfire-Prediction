{
 "cells": [
  {
   "cell_type": "code",
   "execution_count": 33,
   "metadata": {},
   "outputs": [],
   "source": [
    "import pandas as pd\n",
    "import xgboost as xgb\n",
    "from sklearn.model_selection import train_test_split\n",
    "from sklearn.metrics import accuracy_score\n",
    "from sklearn.model_selection import cross_val_score\n",
    "from sklearn.ensemble import RandomForestClassifier\n",
    "from sklearn.metrics import accuracy_score\n",
    "from sklearn.neural_network import MLPClassifier\n",
    "from sklearn.metrics import classification_report\n",
    "from sklearn.model_selection import GridSearchCV "
   ]
  },
  {
   "cell_type": "markdown",
   "metadata": {},
   "source": [
    "# Add Grid Labels"
   ]
  },
  {
   "cell_type": "code",
   "execution_count": null,
   "metadata": {},
   "outputs": [],
   "source": [
    "min_latitude = 48.3  \n",
    "max_latitude = 60.0  \n",
    "min_longitude = -139.05  \n",
    "max_longitude = -114.03  \n"
   ]
  },
  {
   "cell_type": "code",
   "execution_count": 35,
   "metadata": {},
   "outputs": [],
   "source": [
    "num_lat_cells = 5\n",
    "num_lon_cells = 5"
   ]
  },
  {
   "cell_type": "code",
   "execution_count": 36,
   "metadata": {},
   "outputs": [],
   "source": [
    "lat_step = (max_latitude - min_latitude) / num_lat_cells\n",
    "lon_step = (max_longitude - min_longitude) / num_lon_cells"
   ]
  },
  {
   "cell_type": "code",
   "execution_count": 37,
   "metadata": {},
   "outputs": [],
   "source": [
    "def get_grid_label(lat, lon, min_lat, max_lat, min_lon, max_lon, num_lat_cells, num_lon_cells):\n",
    "    # Calculate the indices of the grid cell row and column\n",
    "    lat_index = int((lat - min_lat) // lat_step)\n",
    "    lon_index = int((lon - min_lon) // lon_step)\n",
    "    \n",
    "    # Adjust if the wildfire is exactly on the max boundary\n",
    "    lat_index = min(lat_index, num_lat_cells - 1)\n",
    "    lon_index = min(lon_index, num_lon_cells - 1)\n",
    "    \n",
    "    # Calculate the grid label\n",
    "    grid_label = lat_index * num_lon_cells + lon_index + 1\n",
    "    return grid_label"
   ]
  },
  {
   "cell_type": "code",
   "execution_count": 38,
   "metadata": {},
   "outputs": [],
   "source": [
    "wildfire_df=pd.read_csv(\"merged_2012.csv\")"
   ]
  },
  {
   "cell_type": "code",
   "execution_count": 39,
   "metadata": {},
   "outputs": [],
   "source": [
    "wildfire_df['grid_label'] = wildfire_df.apply(\n",
    "    lambda row: get_grid_label(\n",
    "        row['latitude'],\n",
    "        row['longitude'],\n",
    "        min_latitude,\n",
    "        max_latitude,\n",
    "        min_longitude,\n",
    "        max_longitude,\n",
    "        num_lat_cells,\n",
    "        num_lon_cells\n",
    "    ), axis=1\n",
    ")"
   ]
  },
  {
   "cell_type": "code",
   "execution_count": 40,
   "metadata": {},
   "outputs": [
    {
     "data": {
      "text/html": [
       "<div>\n",
       "<style scoped>\n",
       "    .dataframe tbody tr th:only-of-type {\n",
       "        vertical-align: middle;\n",
       "    }\n",
       "\n",
       "    .dataframe tbody tr th {\n",
       "        vertical-align: top;\n",
       "    }\n",
       "\n",
       "    .dataframe thead th {\n",
       "        text-align: right;\n",
       "    }\n",
       "</style>\n",
       "<table border=\"1\" class=\"dataframe\">\n",
       "  <thead>\n",
       "    <tr style=\"text-align: right;\">\n",
       "      <th></th>\n",
       "      <th>Unnamed: 0</th>\n",
       "      <th>latitude</th>\n",
       "      <th>longitude</th>\n",
       "      <th>acq_date</th>\n",
       "      <th>confidence</th>\n",
       "      <th>geometry_fire</th>\n",
       "      <th>LATITUDE</th>\n",
       "      <th>LONGITUDE</th>\n",
       "      <th>DATE</th>\n",
       "      <th>PRCP</th>\n",
       "      <th>TMIN</th>\n",
       "      <th>TMAX</th>\n",
       "      <th>geometry_weather</th>\n",
       "      <th>distance</th>\n",
       "      <th>week_of_year</th>\n",
       "      <th>grid_label</th>\n",
       "    </tr>\n",
       "  </thead>\n",
       "  <tbody>\n",
       "    <tr>\n",
       "      <th>0</th>\n",
       "      <td>0</td>\n",
       "      <td>58.728439</td>\n",
       "      <td>-117.236771</td>\n",
       "      <td>2012-01-22</td>\n",
       "      <td>h</td>\n",
       "      <td>POINT (-117.236771 58.728439)</td>\n",
       "      <td>53.0667</td>\n",
       "      <td>-121.5167</td>\n",
       "      <td>2012-01-22</td>\n",
       "      <td>0.12</td>\n",
       "      <td>3.0</td>\n",
       "      <td>27.0</td>\n",
       "      <td>POINT (-121.5167 53.0667)</td>\n",
       "      <td>7.097400</td>\n",
       "      <td>3</td>\n",
       "      <td>25</td>\n",
       "    </tr>\n",
       "    <tr>\n",
       "      <th>1</th>\n",
       "      <td>1</td>\n",
       "      <td>57.025085</td>\n",
       "      <td>-121.934845</td>\n",
       "      <td>2012-02-01</td>\n",
       "      <td>h</td>\n",
       "      <td>POINT (-121.934845 57.025085)</td>\n",
       "      <td>53.0333</td>\n",
       "      <td>-122.5167</td>\n",
       "      <td>2012-02-01</td>\n",
       "      <td>0.08</td>\n",
       "      <td>21.0</td>\n",
       "      <td>38.0</td>\n",
       "      <td>POINT (-122.5167 53.0333)</td>\n",
       "      <td>4.033969</td>\n",
       "      <td>5</td>\n",
       "      <td>19</td>\n",
       "    </tr>\n",
       "    <tr>\n",
       "      <th>2</th>\n",
       "      <td>2</td>\n",
       "      <td>53.131313</td>\n",
       "      <td>-115.990082</td>\n",
       "      <td>2012-02-04</td>\n",
       "      <td>h</td>\n",
       "      <td>POINT (-115.990082 53.131313)</td>\n",
       "      <td>51.5833</td>\n",
       "      <td>-119.7833</td>\n",
       "      <td>2012-02-04</td>\n",
       "      <td>0.00</td>\n",
       "      <td>16.0</td>\n",
       "      <td>32.0</td>\n",
       "      <td>POINT (-119.7833 51.5833)</td>\n",
       "      <td>4.096931</td>\n",
       "      <td>5</td>\n",
       "      <td>15</td>\n",
       "    </tr>\n",
       "    <tr>\n",
       "      <th>3</th>\n",
       "      <td>3</td>\n",
       "      <td>50.940090</td>\n",
       "      <td>-114.169312</td>\n",
       "      <td>2012-02-08</td>\n",
       "      <td>h</td>\n",
       "      <td>POINT (-114.169312 50.94009)</td>\n",
       "      <td>51.5833</td>\n",
       "      <td>-119.7833</td>\n",
       "      <td>2012-02-08</td>\n",
       "      <td>0.00</td>\n",
       "      <td>9.0</td>\n",
       "      <td>30.0</td>\n",
       "      <td>POINT (-119.7833 51.5833)</td>\n",
       "      <td>5.650715</td>\n",
       "      <td>6</td>\n",
       "      <td>10</td>\n",
       "    </tr>\n",
       "    <tr>\n",
       "      <th>4</th>\n",
       "      <td>4</td>\n",
       "      <td>58.049400</td>\n",
       "      <td>-114.157494</td>\n",
       "      <td>2012-02-12</td>\n",
       "      <td>h</td>\n",
       "      <td>POINT (-114.157494 58.0494)</td>\n",
       "      <td>51.5833</td>\n",
       "      <td>-119.7833</td>\n",
       "      <td>2012-02-12</td>\n",
       "      <td>0.08</td>\n",
       "      <td>32.0</td>\n",
       "      <td>45.0</td>\n",
       "      <td>POINT (-119.7833 51.5833)</td>\n",
       "      <td>8.570889</td>\n",
       "      <td>6</td>\n",
       "      <td>25</td>\n",
       "    </tr>\n",
       "    <tr>\n",
       "      <th>...</th>\n",
       "      <td>...</td>\n",
       "      <td>...</td>\n",
       "      <td>...</td>\n",
       "      <td>...</td>\n",
       "      <td>...</td>\n",
       "      <td>...</td>\n",
       "      <td>...</td>\n",
       "      <td>...</td>\n",
       "      <td>...</td>\n",
       "      <td>...</td>\n",
       "      <td>...</td>\n",
       "      <td>...</td>\n",
       "      <td>...</td>\n",
       "      <td>...</td>\n",
       "      <td>...</td>\n",
       "      <td>...</td>\n",
       "    </tr>\n",
       "    <tr>\n",
       "      <th>3158</th>\n",
       "      <td>3158</td>\n",
       "      <td>49.603424</td>\n",
       "      <td>-120.053345</td>\n",
       "      <td>2012-11-20</td>\n",
       "      <td>h</td>\n",
       "      <td>POINT (-120.053345 49.603424)</td>\n",
       "      <td>49.7833</td>\n",
       "      <td>-119.7167</td>\n",
       "      <td>2012-11-20</td>\n",
       "      <td>0.19</td>\n",
       "      <td>43.0</td>\n",
       "      <td>47.0</td>\n",
       "      <td>POINT (-119.7167 49.7833)</td>\n",
       "      <td>0.381687</td>\n",
       "      <td>47</td>\n",
       "      <td>4</td>\n",
       "    </tr>\n",
       "    <tr>\n",
       "      <th>3159</th>\n",
       "      <td>3159</td>\n",
       "      <td>51.392712</td>\n",
       "      <td>-122.958649</td>\n",
       "      <td>2012-11-23</td>\n",
       "      <td>h</td>\n",
       "      <td>POINT (-122.958649 51.392712)</td>\n",
       "      <td>50.3000</td>\n",
       "      <td>-122.7333</td>\n",
       "      <td>2012-11-23</td>\n",
       "      <td>0.62</td>\n",
       "      <td>31.0</td>\n",
       "      <td>36.0</td>\n",
       "      <td>POINT (-122.7333 50.3)</td>\n",
       "      <td>1.115707</td>\n",
       "      <td>47</td>\n",
       "      <td>9</td>\n",
       "    </tr>\n",
       "    <tr>\n",
       "      <th>3160</th>\n",
       "      <td>3160</td>\n",
       "      <td>52.061211</td>\n",
       "      <td>-122.916931</td>\n",
       "      <td>2012-12-04</td>\n",
       "      <td>h</td>\n",
       "      <td>POINT (-122.916931 52.061211)</td>\n",
       "      <td>52.3833</td>\n",
       "      <td>-122.3667</td>\n",
       "      <td>2012-12-04</td>\n",
       "      <td>0.00</td>\n",
       "      <td>26.0</td>\n",
       "      <td>53.0</td>\n",
       "      <td>POINT (-122.3667 52.3833)</td>\n",
       "      <td>0.637570</td>\n",
       "      <td>49</td>\n",
       "      <td>9</td>\n",
       "    </tr>\n",
       "    <tr>\n",
       "      <th>3161</th>\n",
       "      <td>3161</td>\n",
       "      <td>58.113380</td>\n",
       "      <td>-116.029503</td>\n",
       "      <td>2012-12-19</td>\n",
       "      <td>h</td>\n",
       "      <td>POINT (-116.029503 58.11338)</td>\n",
       "      <td>53.0667</td>\n",
       "      <td>-121.5167</td>\n",
       "      <td>2012-12-19</td>\n",
       "      <td>0.41</td>\n",
       "      <td>-4.0</td>\n",
       "      <td>25.0</td>\n",
       "      <td>POINT (-121.5167 53.0667)</td>\n",
       "      <td>7.455086</td>\n",
       "      <td>51</td>\n",
       "      <td>25</td>\n",
       "    </tr>\n",
       "    <tr>\n",
       "      <th>3162</th>\n",
       "      <td>3162</td>\n",
       "      <td>58.114071</td>\n",
       "      <td>-116.030380</td>\n",
       "      <td>2012-12-19</td>\n",
       "      <td>h</td>\n",
       "      <td>POINT (-116.03038 58.114071)</td>\n",
       "      <td>53.0667</td>\n",
       "      <td>-121.5167</td>\n",
       "      <td>2012-12-19</td>\n",
       "      <td>0.41</td>\n",
       "      <td>-4.0</td>\n",
       "      <td>25.0</td>\n",
       "      <td>POINT (-121.5167 53.0667)</td>\n",
       "      <td>7.454909</td>\n",
       "      <td>51</td>\n",
       "      <td>25</td>\n",
       "    </tr>\n",
       "  </tbody>\n",
       "</table>\n",
       "<p>3163 rows × 16 columns</p>\n",
       "</div>"
      ],
      "text/plain": [
       "      Unnamed: 0   latitude   longitude    acq_date confidence  \\\n",
       "0              0  58.728439 -117.236771  2012-01-22          h   \n",
       "1              1  57.025085 -121.934845  2012-02-01          h   \n",
       "2              2  53.131313 -115.990082  2012-02-04          h   \n",
       "3              3  50.940090 -114.169312  2012-02-08          h   \n",
       "4              4  58.049400 -114.157494  2012-02-12          h   \n",
       "...          ...        ...         ...         ...        ...   \n",
       "3158        3158  49.603424 -120.053345  2012-11-20          h   \n",
       "3159        3159  51.392712 -122.958649  2012-11-23          h   \n",
       "3160        3160  52.061211 -122.916931  2012-12-04          h   \n",
       "3161        3161  58.113380 -116.029503  2012-12-19          h   \n",
       "3162        3162  58.114071 -116.030380  2012-12-19          h   \n",
       "\n",
       "                      geometry_fire  LATITUDE  LONGITUDE        DATE  PRCP  \\\n",
       "0     POINT (-117.236771 58.728439)   53.0667  -121.5167  2012-01-22  0.12   \n",
       "1     POINT (-121.934845 57.025085)   53.0333  -122.5167  2012-02-01  0.08   \n",
       "2     POINT (-115.990082 53.131313)   51.5833  -119.7833  2012-02-04  0.00   \n",
       "3      POINT (-114.169312 50.94009)   51.5833  -119.7833  2012-02-08  0.00   \n",
       "4       POINT (-114.157494 58.0494)   51.5833  -119.7833  2012-02-12  0.08   \n",
       "...                             ...       ...        ...         ...   ...   \n",
       "3158  POINT (-120.053345 49.603424)   49.7833  -119.7167  2012-11-20  0.19   \n",
       "3159  POINT (-122.958649 51.392712)   50.3000  -122.7333  2012-11-23  0.62   \n",
       "3160  POINT (-122.916931 52.061211)   52.3833  -122.3667  2012-12-04  0.00   \n",
       "3161   POINT (-116.029503 58.11338)   53.0667  -121.5167  2012-12-19  0.41   \n",
       "3162   POINT (-116.03038 58.114071)   53.0667  -121.5167  2012-12-19  0.41   \n",
       "\n",
       "      TMIN  TMAX           geometry_weather  distance  week_of_year  \\\n",
       "0      3.0  27.0  POINT (-121.5167 53.0667)  7.097400             3   \n",
       "1     21.0  38.0  POINT (-122.5167 53.0333)  4.033969             5   \n",
       "2     16.0  32.0  POINT (-119.7833 51.5833)  4.096931             5   \n",
       "3      9.0  30.0  POINT (-119.7833 51.5833)  5.650715             6   \n",
       "4     32.0  45.0  POINT (-119.7833 51.5833)  8.570889             6   \n",
       "...    ...   ...                        ...       ...           ...   \n",
       "3158  43.0  47.0  POINT (-119.7167 49.7833)  0.381687            47   \n",
       "3159  31.0  36.0     POINT (-122.7333 50.3)  1.115707            47   \n",
       "3160  26.0  53.0  POINT (-122.3667 52.3833)  0.637570            49   \n",
       "3161  -4.0  25.0  POINT (-121.5167 53.0667)  7.455086            51   \n",
       "3162  -4.0  25.0  POINT (-121.5167 53.0667)  7.454909            51   \n",
       "\n",
       "      grid_label  \n",
       "0             25  \n",
       "1             19  \n",
       "2             15  \n",
       "3             10  \n",
       "4             25  \n",
       "...          ...  \n",
       "3158           4  \n",
       "3159           9  \n",
       "3160           9  \n",
       "3161          25  \n",
       "3162          25  \n",
       "\n",
       "[3163 rows x 16 columns]"
      ]
     },
     "execution_count": 40,
     "metadata": {},
     "output_type": "execute_result"
    }
   ],
   "source": [
    "wildfire_df"
   ]
  },
  {
   "cell_type": "code",
   "execution_count": 41,
   "metadata": {},
   "outputs": [],
   "source": [
    "from sklearn.preprocessing import LabelEncoder"
   ]
  },
  {
   "cell_type": "markdown",
   "metadata": {},
   "source": [
    "# XGBoost"
   ]
  },
  {
   "cell_type": "code",
   "execution_count": null,
   "metadata": {},
   "outputs": [
    {
     "name": "stderr",
     "output_type": "stream",
     "text": [
      "c:\\Users\\Dewang\\AppData\\Local\\Programs\\Python\\Python311\\Lib\\site-packages\\sklearn\\model_selection\\_split.py:737: UserWarning: The least populated class in y has only 1 members, which is less than n_splits=5.\n",
      "  warnings.warn(\n"
     ]
    },
    {
     "name": "stdout",
     "output_type": "stream",
     "text": [
      "Accuracy: 0.8704581358609794\n",
      "Cross-validated scores: [0.85573123 0.84189723 0.85573123        nan        nan]\n",
      "Average Score: nan\n",
      "Predicted Grid Label: [25]\n"
     ]
    },
    {
     "name": "stderr",
     "output_type": "stream",
     "text": [
      "c:\\Users\\Dewang\\AppData\\Local\\Programs\\Python\\Python311\\Lib\\site-packages\\sklearn\\model_selection\\_validation.py:425: FitFailedWarning: \n",
      "2 fits failed out of a total of 5.\n",
      "The score on these train-test partitions for these parameters will be set to nan.\n",
      "If these failures are not expected, you can try to debug them by setting error_score='raise'.\n",
      "\n",
      "Below are more details about the failures:\n",
      "--------------------------------------------------------------------------------\n",
      "1 fits failed with the following error:\n",
      "Traceback (most recent call last):\n",
      "  File \"c:\\Users\\Dewang\\AppData\\Local\\Programs\\Python\\Python311\\Lib\\site-packages\\sklearn\\model_selection\\_validation.py\", line 729, in _fit_and_score\n",
      "    estimator.fit(X_train, y_train, **fit_params)\n",
      "  File \"c:\\Users\\Dewang\\AppData\\Local\\Programs\\Python\\Python311\\Lib\\site-packages\\xgboost\\core.py\", line 729, in inner_f\n",
      "    return func(**kwargs)\n",
      "           ^^^^^^^^^^^^^^\n",
      "  File \"c:\\Users\\Dewang\\AppData\\Local\\Programs\\Python\\Python311\\Lib\\site-packages\\xgboost\\sklearn.py\", line 1467, in fit\n",
      "    raise ValueError(\n",
      "ValueError: Invalid classes inferred from unique values of `y`.  Expected: [ 0  1  2  3  4  5  6  7  8  9 10 11 12 13 14], got [ 1  2  3  4  5  6  7  8  9 10 11 12 13 14 15]\n",
      "\n",
      "--------------------------------------------------------------------------------\n",
      "1 fits failed with the following error:\n",
      "Traceback (most recent call last):\n",
      "  File \"c:\\Users\\Dewang\\AppData\\Local\\Programs\\Python\\Python311\\Lib\\site-packages\\sklearn\\model_selection\\_validation.py\", line 729, in _fit_and_score\n",
      "    estimator.fit(X_train, y_train, **fit_params)\n",
      "  File \"c:\\Users\\Dewang\\AppData\\Local\\Programs\\Python\\Python311\\Lib\\site-packages\\xgboost\\core.py\", line 729, in inner_f\n",
      "    return func(**kwargs)\n",
      "           ^^^^^^^^^^^^^^\n",
      "  File \"c:\\Users\\Dewang\\AppData\\Local\\Programs\\Python\\Python311\\Lib\\site-packages\\xgboost\\sklearn.py\", line 1467, in fit\n",
      "    raise ValueError(\n",
      "ValueError: Invalid classes inferred from unique values of `y`.  Expected: [ 0  1  2  3  4  5  6  7  8  9 10 11 12 13 14], got [ 0  1  2  3  4  5  6  7  8 10 11 12 13 14 15]\n",
      "\n",
      "  warnings.warn(some_fits_failed_message, FitFailedWarning)\n"
     ]
    }
   ],
   "source": [
    "\n",
    "# Define X and y\n",
    "X = wildfire_df[['week_of_year', 'TMIN', 'TMAX', 'PRCP']]\n",
    "y = wildfire_df['grid_label']  # target variable\n",
    "\n",
    "# Split the data into training and test sets\n",
    "X_train, X_test, y_train, y_test = train_test_split(X, y, test_size=0.2, random_state=42)\n",
    "\n",
    "# Initialize the label encoder\n",
    "label_encoder = LabelEncoder()\n",
    "\n",
    "# Fit label encoder and return encoded labels\n",
    "y_encoded = label_encoder.fit_transform(y_train)\n",
    "\n",
    "# Transform labels for test set as well\n",
    "y_test_encoded = label_encoder.transform(y_test)\n",
    "\n",
    "# Initialize XGBoost classifier\n",
    "model = xgb.XGBClassifier(use_label_encoder=False, eval_metric='mlogloss')\n",
    "\n",
    "# Fit the classifier to the training set\n",
    "model.fit(X_train, y_encoded)\n",
    "\n",
    "# Predict the test set\n",
    "y_pred_encoded = model.predict(X_test)\n",
    "y_pred = label_encoder.inverse_transform(y_pred_encoded)\n",
    "\n",
    "# Evaluate the model\n",
    "accuracy = accuracy_score(y_test, y_pred)\n",
    "scores = cross_val_score(model, X_train, y_encoded, cv=5)\n",
    "print(f\"Accuracy: {accuracy}\")\n",
    "print(f\"Cross-validated scores: {scores}\")\n",
    "print(f\"Average Score: {scores.mean()}\")\n",
    "\n",
    "\n",
    "# Make predictions using the model\n",
    "input_data = pd.DataFrame({\n",
    "    'week_of_year': [27],  # Example week\n",
    "    'TMIN': [26],         # Example minimum temperature\n",
    "    'TMAX': [53],         # Example maximum temperature\n",
    "    'PRCP': [0]         # Example precipitation\n",
    "})\n",
    "\n",
    "predicted_grid_label = model.predict(input_data)\n",
    "predicted_grid_label = label_encoder.inverse_transform(predicted_grid_label)\n",
    "print(f\"Predicted Grid Label: {predicted_grid_label}\")\n"
   ]
  },
  {
   "cell_type": "code",
   "execution_count": 43,
   "metadata": {},
   "outputs": [
    {
     "name": "stdout",
     "output_type": "stream",
     "text": [
      "              precision    recall  f1-score   support\n",
      "\n",
      "           4       1.00      1.00      1.00         6\n",
      "           5       1.00      1.00      1.00         6\n",
      "           8       0.00      0.00      0.00         0\n",
      "           9       1.00      0.33      0.50         3\n",
      "          10       1.00      1.00      1.00         4\n",
      "          13       1.00      0.80      0.89        15\n",
      "          14       0.29      0.50      0.36         4\n",
      "          15       1.00      1.00      1.00         1\n",
      "          19       0.67      0.51      0.58        43\n",
      "          20       1.00      0.12      0.22        16\n",
      "          22       1.00      0.33      0.50         3\n",
      "          23       0.83      0.67      0.74        15\n",
      "          24       0.92      0.86      0.89       176\n",
      "          25       0.87      0.97      0.92       341\n",
      "\n",
      "    accuracy                           0.87       633\n",
      "   macro avg       0.83      0.65      0.69       633\n",
      "weighted avg       0.88      0.87      0.86       633\n",
      "\n"
     ]
    },
    {
     "name": "stderr",
     "output_type": "stream",
     "text": [
      "c:\\Users\\Dewang\\AppData\\Local\\Programs\\Python\\Python311\\Lib\\site-packages\\sklearn\\metrics\\_classification.py:1471: UndefinedMetricWarning: Recall and F-score are ill-defined and being set to 0.0 in labels with no true samples. Use `zero_division` parameter to control this behavior.\n",
      "  _warn_prf(average, modifier, msg_start, len(result))\n",
      "c:\\Users\\Dewang\\AppData\\Local\\Programs\\Python\\Python311\\Lib\\site-packages\\sklearn\\metrics\\_classification.py:1471: UndefinedMetricWarning: Recall and F-score are ill-defined and being set to 0.0 in labels with no true samples. Use `zero_division` parameter to control this behavior.\n",
      "  _warn_prf(average, modifier, msg_start, len(result))\n",
      "c:\\Users\\Dewang\\AppData\\Local\\Programs\\Python\\Python311\\Lib\\site-packages\\sklearn\\metrics\\_classification.py:1471: UndefinedMetricWarning: Recall and F-score are ill-defined and being set to 0.0 in labels with no true samples. Use `zero_division` parameter to control this behavior.\n",
      "  _warn_prf(average, modifier, msg_start, len(result))\n"
     ]
    }
   ],
   "source": [
    "print(classification_report(y_test, y_pred))"
   ]
  },
  {
   "cell_type": "code",
   "execution_count": 44,
   "metadata": {},
   "outputs": [
    {
     "data": {
      "image/png": "[encoded data removed]",
      "text/plain": [
       "<Figure size 1000x800 with 2 Axes>"
      ]
     },
     "metadata": {},
     "output_type": "display_data"
    }
   ],
   "source": [
    "import matplotlib.pyplot as plt\n",
    "import seaborn as sns\n",
    "from sklearn.metrics import confusion_matrix\n",
    "import numpy as np\n",
    "\n",
    "cm = confusion_matrix(y_test, y_pred)\n",
    "labels = np.unique(y_test)  \n",
    "\n",
    "plt.figure(figsize=(10, 8))\n",
    "sns.heatmap(cm, annot=True, fmt='g', cmap='Blues', xticklabels=labels, yticklabels=labels)\n",
    "plt.xlabel('Predicted')\n",
    "plt.ylabel('Actual')\n",
    "plt.title('Confusion Matrix')\n",
    "plt.show()"
   ]
  },
  {
   "cell_type": "markdown",
   "metadata": {},
   "source": [
    "# Random Forest"
   ]
  },
  {
   "cell_type": "code",
   "execution_count": null,
   "metadata": {},
   "outputs": [],
   "source": [
    "rf_model = RandomForestClassifier(n_estimators=100, random_state=42)  "
   ]
  },
  {
   "cell_type": "code",
   "execution_count": null,
   "metadata": {},
   "outputs": [
    {
     "data": {
      "text/html": [
       "<style>#sk-container-id-2 {color: black;}#sk-container-id-2 pre{padding: 0;}#sk-container-id-2 div.sk-toggleable {background-color: white;}#sk-container-id-2 label.sk-toggleable__label {cursor: pointer;display: block;width: 100%;margin-bottom: 0;padding: 0.3em;box-sizing: border-box;text-align: center;}#sk-container-id-2 label.sk-toggleable__label-arrow:before {content: \"▸\";float: left;margin-right: 0.25em;color: #696969;}#sk-container-id-2 label.sk-toggleable__label-arrow:hover:before {color: black;}#sk-container-id-2 div.sk-estimator:hover label.sk-toggleable__label-arrow:before {color: black;}#sk-container-id-2 div.sk-toggleable__content {max-height: 0;max-width: 0;overflow: hidden;text-align: left;background-color: #f0f8ff;}#sk-container-id-2 div.sk-toggleable__content pre {margin: 0.2em;color: black;border-radius: 0.25em;background-color: #f0f8ff;}#sk-container-id-2 input.sk-toggleable__control:checked~div.sk-toggleable__content {max-height: 200px;max-width: 100%;overflow: auto;}#sk-container-id-2 input.sk-toggleable__control:checked~label.sk-toggleable__label-arrow:before {content: \"▾\";}#sk-container-id-2 div.sk-estimator input.sk-toggleable__control:checked~label.sk-toggleable__label {background-color: #d4ebff;}#sk-container-id-2 div.sk-label input.sk-toggleable__control:checked~label.sk-toggleable__label {background-color: #d4ebff;}#sk-container-id-2 input.sk-hidden--visually {border: 0;clip: rect(1px 1px 1px 1px);clip: rect(1px, 1px, 1px, 1px);height: 1px;margin: -1px;overflow: hidden;padding: 0;position: absolute;width: 1px;}#sk-container-id-2 div.sk-estimator {font-family: monospace;background-color: #f0f8ff;border: 1px dotted black;border-radius: 0.25em;box-sizing: border-box;margin-bottom: 0.5em;}#sk-container-id-2 div.sk-estimator:hover {background-color: #d4ebff;}#sk-container-id-2 div.sk-parallel-item::after {content: \"\";width: 100%;border-bottom: 1px solid gray;flex-grow: 1;}#sk-container-id-2 div.sk-label:hover label.sk-toggleable__label {background-color: #d4ebff;}#sk-container-id-2 div.sk-serial::before {content: \"\";position: absolute;border-left: 1px solid gray;box-sizing: border-box;top: 0;bottom: 0;left: 50%;z-index: 0;}#sk-container-id-2 div.sk-serial {display: flex;flex-direction: column;align-items: center;background-color: white;padding-right: 0.2em;padding-left: 0.2em;position: relative;}#sk-container-id-2 div.sk-item {position: relative;z-index: 1;}#sk-container-id-2 div.sk-parallel {display: flex;align-items: stretch;justify-content: center;background-color: white;position: relative;}#sk-container-id-2 div.sk-item::before, #sk-container-id-2 div.sk-parallel-item::before {content: \"\";position: absolute;border-left: 1px solid gray;box-sizing: border-box;top: 0;bottom: 0;left: 50%;z-index: -1;}#sk-container-id-2 div.sk-parallel-item {display: flex;flex-direction: column;z-index: 1;position: relative;background-color: white;}#sk-container-id-2 div.sk-parallel-item:first-child::after {align-self: flex-end;width: 50%;}#sk-container-id-2 div.sk-parallel-item:last-child::after {align-self: flex-start;width: 50%;}#sk-container-id-2 div.sk-parallel-item:only-child::after {width: 0;}#sk-container-id-2 div.sk-dashed-wrapped {border: 1px dashed gray;margin: 0 0.4em 0.5em 0.4em;box-sizing: border-box;padding-bottom: 0.4em;background-color: white;}#sk-container-id-2 div.sk-label label {font-family: monospace;font-weight: bold;display: inline-block;line-height: 1.2em;}#sk-container-id-2 div.sk-label-container {text-align: center;}#sk-container-id-2 div.sk-container {/* jupyter's `normalize.less` sets `[hidden] { display: none; }` but bootstrap.min.css set `[hidden] { display: none !important; }` so we also need the `!important` here to be able to override the default hidden behavior on the sphinx rendered scikit-learn.org. See: https://github.com/scikit-learn/scikit-learn/issues/21755 */display: inline-block !important;position: relative;}#sk-container-id-2 div.sk-text-repr-fallback {display: none;}</style><div id=\"sk-container-id-2\" class=\"sk-top-container\"><div class=\"sk-text-repr-fallback\"><pre>RandomForestClassifier(random_state=42)</pre><b>In a Jupyter environment, please rerun this cell to show the HTML representation or trust the notebook. <br />On GitHub, the HTML representation is unable to render, please try loading this page with nbviewer.org.</b></div><div class=\"sk-container\" hidden><div class=\"sk-item\"><div class=\"sk-estimator sk-toggleable\"><input class=\"sk-toggleable__control sk-hidden--visually\" id=\"sk-estimator-id-2\" type=\"checkbox\" checked><label for=\"sk-estimator-id-2\" class=\"sk-toggleable__label sk-toggleable__label-arrow\">RandomForestClassifier</label><div class=\"sk-toggleable__content\"><pre>RandomForestClassifier(random_state=42)</pre></div></div></div></div></div>"
      ],
      "text/plain": [
       "RandomForestClassifier(random_state=42)"
      ]
     },
     "execution_count": 46,
     "metadata": {},
     "output_type": "execute_result"
    }
   ],
   "source": [
    "import numpy as np\n",
    "\n",
    "mask = ~np.isnan(X_train).any(axis=1)\n",
    "mask2 = ~np.isnan(X_test).any(axis=1)\n",
    "\n",
    "# Apply mask to both X_train and y_encoded\n",
    "X_train_clean = X_train[mask]\n",
    "y_train_clean=y_train[mask]\n",
    "y_encoded_clean = y_encoded[mask]\n",
    "\n",
    "# Apply mask to both X_train and y_encoded\n",
    "X_test_clean = X_test[mask2]\n",
    "y_test_clean = y_test[mask2]\n",
    "\n",
    "# Now X_train_clean and y_encoded_clean are aligned\n",
    "rf_model.fit(X_train_clean, y_encoded_clean)"
   ]
  },
  {
   "cell_type": "code",
   "execution_count": null,
   "metadata": {},
   "outputs": [
    {
     "name": "stderr",
     "output_type": "stream",
     "text": [
      "c:\\Users\\Dewang\\AppData\\Local\\Programs\\Python\\Python311\\Lib\\site-packages\\sklearn\\model_selection\\_split.py:737: UserWarning: The least populated class in y has only 1 members, which is less than n_splits=5.\n",
      "  warnings.warn(\n"
     ]
    },
    {
     "name": "stdout",
     "output_type": "stream",
     "text": [
      "Accuracy: 0.8698412698412699\n",
      "Cross-validated scores: [0.85940594 0.83366337 0.85714286 0.84126984 0.86309524]\n",
      "Average Score: 0.850915448687726\n"
     ]
    }
   ],
   "source": [
    "y_pred_encoded = rf_model.predict(X_test_clean)\n",
    "y_pred = label_encoder.inverse_transform(y_pred_encoded) \n",
    "\n",
    "scores = cross_val_score(rf_model, X_train_clean, y_encoded_clean, cv=5)\n",
    "\n",
    "# Evaluate the model\n",
    "accuracy = accuracy_score(y_test_clean, y_pred)\n",
    "print(f\"Accuracy: {accuracy}\")\n",
    "print(f\"Cross-validated scores: {scores}\")\n",
    "print(f\"Average Score: {scores.mean()}\")\n"
   ]
  },
  {
   "cell_type": "code",
   "execution_count": 48,
   "metadata": {},
   "outputs": [
    {
     "name": "stdout",
     "output_type": "stream",
     "text": [
      "              precision    recall  f1-score   support\n",
      "\n",
      "           4       1.00      0.50      0.67         6\n",
      "           5       1.00      1.00      1.00         6\n",
      "           9       1.00      0.33      0.50         3\n",
      "          10       1.00      1.00      1.00         4\n",
      "          13       1.00      0.93      0.97        15\n",
      "          14       0.33      0.50      0.40         4\n",
      "          15       1.00      1.00      1.00         1\n",
      "          19       0.69      0.47      0.56        43\n",
      "          20       1.00      0.19      0.32        16\n",
      "          22       1.00      0.33      0.50         3\n",
      "          23       0.78      0.58      0.67        12\n",
      "          24       0.89      0.87      0.88       176\n",
      "          25       0.87      0.98      0.92       341\n",
      "\n",
      "    accuracy                           0.87       630\n",
      "   macro avg       0.89      0.67      0.72       630\n",
      "weighted avg       0.87      0.87      0.86       630\n",
      "\n"
     ]
    }
   ],
   "source": [
    "print(classification_report(y_test_clean, y_pred))"
   ]
  },
  {
   "cell_type": "code",
   "execution_count": 49,
   "metadata": {},
   "outputs": [
    {
     "name": "stdout",
     "output_type": "stream",
     "text": [
      "Predicted Grid Label: [25]\n"
     ]
    }
   ],
   "source": [
    "input_data = pd.DataFrame({\n",
    "    'week_of_year': [27],  # Example week\n",
    "    'TMIN': [14],         # Example minimum temperature\n",
    "    'TMAX': [25],         # Example maximum temperature\n",
    "    'PRCP': [0]         # Example precipitation\n",
    "})\n",
    "\n",
    "predicted_grid_label = rf_model.predict(input_data)\n",
    "predicted_grid_label = label_encoder.inverse_transform(predicted_grid_label)\n",
    "print(f\"Predicted Grid Label: {predicted_grid_label}\")"
   ]
  },
  {
   "cell_type": "code",
   "execution_count": 50,
   "metadata": {},
   "outputs": [
    {
     "data": {
      "image/png": "[encoded data removed]",
      "text/plain": [
       "<Figure size 1000x800 with 2 Axes>"
      ]
     },
     "metadata": {},
     "output_type": "display_data"
    }
   ],
   "source": [
    "cm = confusion_matrix(y_test_clean, y_pred)\n",
    "labels = np.unique(y_test)  \n",
    "\n",
    "plt.figure(figsize=(10, 8))\n",
    "sns.heatmap(cm, annot=True, fmt='g', cmap='Blues', xticklabels=labels, yticklabels=labels)\n",
    "plt.xlabel('Predicted')\n",
    "plt.ylabel('Actual')\n",
    "plt.title('Confusion Matrix')\n",
    "plt.show()"
   ]
  },
  {
   "cell_type": "markdown",
   "metadata": {},
   "source": [
    "# MLP"
   ]
  },
  {
   "cell_type": "code",
   "execution_count": 51,
   "metadata": {},
   "outputs": [
    {
     "name": "stderr",
     "output_type": "stream",
     "text": [
      "c:\\Users\\Dewang\\AppData\\Local\\Programs\\Python\\Python311\\Lib\\site-packages\\sklearn\\model_selection\\_split.py:737: UserWarning: The least populated class in y has only 1 members, which is less than n_splits=5.\n",
      "  warnings.warn(\n"
     ]
    },
    {
     "name": "stdout",
     "output_type": "stream",
     "text": [
      "Accuracy: 0.8222222222222222\n",
      "Cross-validated scores: [0.77425743 0.77425743 0.75       0.74801587 0.75      ]\n",
      "Average Score: 0.7593061449002043\n"
     ]
    }
   ],
   "source": [
    "# Initialize MLP Classifier\n",
    "mlp = MLPClassifier(hidden_layer_sizes=(100, 96, 178), max_iter=500, activation='relu', solver='adam', random_state=42)\n",
    "\n",
    "# Train the model\n",
    "mlp.fit(X_train_clean, y_train_clean)\n",
    "\n",
    "# Predict and evaluate the model\n",
    "y_pred = mlp.predict(X_test_clean)\n",
    "scores = cross_val_score(mlp, X_train_clean, y_encoded_clean, cv=5)\n",
    "print(f\"Accuracy: {accuracy_score(y_test_clean, y_pred)}\")\n",
    "print(f\"Cross-validated scores: {scores}\")\n",
    "print(f\"Average Score: {scores.mean()}\")\n",
    "\n"
   ]
  },
  {
   "cell_type": "code",
   "execution_count": 52,
   "metadata": {},
   "outputs": [
    {
     "name": "stdout",
     "output_type": "stream",
     "text": [
      "              precision    recall  f1-score   support\n",
      "\n",
      "           4       1.00      0.83      0.91         6\n",
      "           5       0.86      1.00      0.92         6\n",
      "           9       1.00      0.33      0.50         3\n",
      "          10       0.00      0.00      0.00         4\n",
      "          13       0.93      0.93      0.93        15\n",
      "          14       0.67      0.50      0.57         4\n",
      "          15       1.00      1.00      1.00         1\n",
      "          19       0.54      0.44      0.49        43\n",
      "          20       1.00      0.06      0.12        16\n",
      "          22       1.00      0.33      0.50         3\n",
      "          23       0.67      0.50      0.57        12\n",
      "          24       0.80      0.84      0.82       176\n",
      "          25       0.86      0.92      0.89       341\n",
      "\n",
      "    accuracy                           0.82       630\n",
      "   macro avg       0.79      0.59      0.63       630\n",
      "weighted avg       0.82      0.82      0.81       630\n",
      "\n"
     ]
    }
   ],
   "source": [
    "print(classification_report(y_test_clean, y_pred))"
   ]
  },
  {
   "cell_type": "code",
   "execution_count": 53,
   "metadata": {},
   "outputs": [
    {
     "data": {
      "image/png": "[encoded data removed]",
      "text/plain": [
       "<Figure size 1000x800 with 2 Axes>"
      ]
     },
     "metadata": {},
     "output_type": "display_data"
    }
   ],
   "source": [
    "cm = confusion_matrix(y_test_clean, y_pred)\n",
    "labels = np.unique(y_test)  \n",
    "\n",
    "plt.figure(figsize=(10, 8))\n",
    "sns.heatmap(cm, annot=True, fmt='g', cmap='Blues', xticklabels=labels, yticklabels=labels)\n",
    "plt.xlabel('Predicted')\n",
    "plt.ylabel('Actual')\n",
    "plt.title('Confusion Matrix')\n",
    "plt.show()"
   ]
  }
 ],
 "metadata": {
  "kernelspec": {
   "display_name": "Python 3",
   "language": "python",
   "name": "python3"
  },
  "language_info": {
   "codemirror_mode": {
    "name": "ipython",
    "version": 3
   },
   "file_extension": ".py",
   "mimetype": "text/x-python",
   "name": "python",
   "nbconvert_exporter": "python",
   "pygments_lexer": "ipython3",
   "version": "3.11.2"
  }
 },
 "nbformat": 4,
 "nbformat_minor": 2
}
